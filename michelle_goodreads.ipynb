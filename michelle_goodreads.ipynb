{
 "cells": [
  {
   "cell_type": "markdown",
   "id": "legislative-drinking",
   "metadata": {},
   "source": [
    "# michelle's goodreads data :)"
   ]
  },
  {
   "cell_type": "markdown",
   "id": "working-religious",
   "metadata": {},
   "source": [
    "imports wahoo"
   ]
  },
  {
   "cell_type": "code",
   "execution_count": 17,
   "id": "automatic-express",
   "metadata": {},
   "outputs": [],
   "source": [
    "# imports\n",
    "import pandas as pd, seaborn as sns\n",
    "from sklearn.model_selection import train_test_split\n",
    "from sklearn.model_selection import TimeSeriesSplit"
   ]
  },
  {
   "cell_type": "markdown",
   "id": "binary-dispatch",
   "metadata": {},
   "source": [
    "## importing the data"
   ]
  },
  {
   "cell_type": "code",
   "execution_count": 21,
   "id": "strange-spice",
   "metadata": {},
   "outputs": [],
   "source": [
    "df = pd.read_csv(\"./data/michelle_goodreads.csv\")"
   ]
  },
  {
   "cell_type": "code",
   "execution_count": 22,
   "id": "copyrighted-warrant",
   "metadata": {},
   "outputs": [],
   "source": [
    "# debug\n",
    "#df"
   ]
  },
  {
   "cell_type": "markdown",
   "id": "portable-bread",
   "metadata": {},
   "source": [
    "## data cleaning"
   ]
  },
  {
   "cell_type": "code",
   "execution_count": 23,
   "id": "exclusive-cricket",
   "metadata": {},
   "outputs": [],
   "source": [
    "df = df[df['My Rating']!=0]"
   ]
  },
  {
   "cell_type": "code",
   "execution_count": 24,
   "id": "strategic-shame",
   "metadata": {},
   "outputs": [
    {
     "data": {
      "text/html": [
       "<div>\n",
       "<style scoped>\n",
       "    .dataframe tbody tr th:only-of-type {\n",
       "        vertical-align: middle;\n",
       "    }\n",
       "\n",
       "    .dataframe tbody tr th {\n",
       "        vertical-align: top;\n",
       "    }\n",
       "\n",
       "    .dataframe thead th {\n",
       "        text-align: right;\n",
       "    }\n",
       "</style>\n",
       "<table border=\"1\" class=\"dataframe\">\n",
       "  <thead>\n",
       "    <tr style=\"text-align: right;\">\n",
       "      <th></th>\n",
       "      <th>Book Id</th>\n",
       "      <th>Title</th>\n",
       "      <th>Author</th>\n",
       "      <th>Author l-f</th>\n",
       "      <th>Additional Authors</th>\n",
       "      <th>ISBN</th>\n",
       "      <th>ISBN13</th>\n",
       "      <th>My Rating</th>\n",
       "      <th>Average Rating</th>\n",
       "      <th>Publisher</th>\n",
       "      <th>...</th>\n",
       "      <th>Private Notes</th>\n",
       "      <th>Read Count</th>\n",
       "      <th>Recommended For</th>\n",
       "      <th>Recommended By</th>\n",
       "      <th>Owned Copies</th>\n",
       "      <th>Original Purchase Date</th>\n",
       "      <th>Original Purchase Location</th>\n",
       "      <th>Condition</th>\n",
       "      <th>Condition Description</th>\n",
       "      <th>BCID</th>\n",
       "    </tr>\n",
       "  </thead>\n",
       "  <tbody>\n",
       "    <tr>\n",
       "      <th>10</th>\n",
       "      <td>33299465</td>\n",
       "      <td>You Asked for Perfect</td>\n",
       "      <td>Laura  Silverman</td>\n",
       "      <td>Silverman, Laura</td>\n",
       "      <td>NaN</td>\n",
       "      <td>=\"1492658278\"</td>\n",
       "      <td>=\"9781492658276\"</td>\n",
       "      <td>1</td>\n",
       "      <td>3.83</td>\n",
       "      <td>Sourcebooks Fire</td>\n",
       "      <td>...</td>\n",
       "      <td>NaN</td>\n",
       "      <td>1</td>\n",
       "      <td>NaN</td>\n",
       "      <td>NaN</td>\n",
       "      <td>0</td>\n",
       "      <td>NaN</td>\n",
       "      <td>NaN</td>\n",
       "      <td>NaN</td>\n",
       "      <td>NaN</td>\n",
       "      <td>NaN</td>\n",
       "    </tr>\n",
       "    <tr>\n",
       "      <th>12</th>\n",
       "      <td>40916679</td>\n",
       "      <td>A Good Girl's Guide to Murder (A Good Girl's G...</td>\n",
       "      <td>Holly  Jackson</td>\n",
       "      <td>Jackson, Holly</td>\n",
       "      <td>NaN</td>\n",
       "      <td>=\"1405293187\"</td>\n",
       "      <td>=\"9781405293181\"</td>\n",
       "      <td>5</td>\n",
       "      <td>4.36</td>\n",
       "      <td>Electric Monkey</td>\n",
       "      <td>...</td>\n",
       "      <td>NaN</td>\n",
       "      <td>1</td>\n",
       "      <td>NaN</td>\n",
       "      <td>NaN</td>\n",
       "      <td>0</td>\n",
       "      <td>NaN</td>\n",
       "      <td>NaN</td>\n",
       "      <td>NaN</td>\n",
       "      <td>NaN</td>\n",
       "      <td>NaN</td>\n",
       "    </tr>\n",
       "    <tr>\n",
       "      <th>13</th>\n",
       "      <td>50892212</td>\n",
       "      <td>These Violent Delights (These Violent Delights...</td>\n",
       "      <td>Chloe Gong</td>\n",
       "      <td>Gong, Chloe</td>\n",
       "      <td>NaN</td>\n",
       "      <td>=\"1534457690\"</td>\n",
       "      <td>=\"9781534457690\"</td>\n",
       "      <td>4</td>\n",
       "      <td>4.00</td>\n",
       "      <td>Margaret K. McElderry Books</td>\n",
       "      <td>...</td>\n",
       "      <td>NaN</td>\n",
       "      <td>1</td>\n",
       "      <td>NaN</td>\n",
       "      <td>NaN</td>\n",
       "      <td>0</td>\n",
       "      <td>NaN</td>\n",
       "      <td>NaN</td>\n",
       "      <td>NaN</td>\n",
       "      <td>NaN</td>\n",
       "      <td>NaN</td>\n",
       "    </tr>\n",
       "    <tr>\n",
       "      <th>15</th>\n",
       "      <td>31180248</td>\n",
       "      <td>Leah on the Offbeat (Simonverse #3)</td>\n",
       "      <td>Becky Albertalli</td>\n",
       "      <td>Albertalli, Becky</td>\n",
       "      <td>NaN</td>\n",
       "      <td>=\"0062643800\"</td>\n",
       "      <td>=\"9780062643803\"</td>\n",
       "      <td>2</td>\n",
       "      <td>3.83</td>\n",
       "      <td>HarperCollins/Balzer + Bray</td>\n",
       "      <td>...</td>\n",
       "      <td>NaN</td>\n",
       "      <td>1</td>\n",
       "      <td>NaN</td>\n",
       "      <td>NaN</td>\n",
       "      <td>0</td>\n",
       "      <td>NaN</td>\n",
       "      <td>NaN</td>\n",
       "      <td>NaN</td>\n",
       "      <td>NaN</td>\n",
       "      <td>NaN</td>\n",
       "    </tr>\n",
       "    <tr>\n",
       "      <th>17</th>\n",
       "      <td>41940388</td>\n",
       "      <td>The Test</td>\n",
       "      <td>Sylvain Neuvel</td>\n",
       "      <td>Neuvel, Sylvain</td>\n",
       "      <td>NaN</td>\n",
       "      <td>=\"1250312833\"</td>\n",
       "      <td>=\"9781250312839\"</td>\n",
       "      <td>4</td>\n",
       "      <td>3.85</td>\n",
       "      <td>St Martin's Press</td>\n",
       "      <td>...</td>\n",
       "      <td>NaN</td>\n",
       "      <td>1</td>\n",
       "      <td>NaN</td>\n",
       "      <td>NaN</td>\n",
       "      <td>0</td>\n",
       "      <td>NaN</td>\n",
       "      <td>NaN</td>\n",
       "      <td>NaN</td>\n",
       "      <td>NaN</td>\n",
       "      <td>NaN</td>\n",
       "    </tr>\n",
       "  </tbody>\n",
       "</table>\n",
       "<p>5 rows × 31 columns</p>\n",
       "</div>"
      ],
      "text/plain": [
       "     Book Id                                              Title  \\\n",
       "10  33299465                              You Asked for Perfect   \n",
       "12  40916679  A Good Girl's Guide to Murder (A Good Girl's G...   \n",
       "13  50892212  These Violent Delights (These Violent Delights...   \n",
       "15  31180248                Leah on the Offbeat (Simonverse #3)   \n",
       "17  41940388                                           The Test   \n",
       "\n",
       "              Author         Author l-f Additional Authors           ISBN  \\\n",
       "10  Laura  Silverman   Silverman, Laura                NaN  =\"1492658278\"   \n",
       "12    Holly  Jackson     Jackson, Holly                NaN  =\"1405293187\"   \n",
       "13        Chloe Gong        Gong, Chloe                NaN  =\"1534457690\"   \n",
       "15  Becky Albertalli  Albertalli, Becky                NaN  =\"0062643800\"   \n",
       "17    Sylvain Neuvel    Neuvel, Sylvain                NaN  =\"1250312833\"   \n",
       "\n",
       "              ISBN13  My Rating  Average Rating                    Publisher  \\\n",
       "10  =\"9781492658276\"          1            3.83             Sourcebooks Fire   \n",
       "12  =\"9781405293181\"          5            4.36              Electric Monkey   \n",
       "13  =\"9781534457690\"          4            4.00  Margaret K. McElderry Books   \n",
       "15  =\"9780062643803\"          2            3.83  HarperCollins/Balzer + Bray   \n",
       "17  =\"9781250312839\"          4            3.85            St Martin's Press   \n",
       "\n",
       "    ... Private Notes  Read Count  Recommended For  Recommended By  \\\n",
       "10  ...           NaN           1              NaN             NaN   \n",
       "12  ...           NaN           1              NaN             NaN   \n",
       "13  ...           NaN           1              NaN             NaN   \n",
       "15  ...           NaN           1              NaN             NaN   \n",
       "17  ...           NaN           1              NaN             NaN   \n",
       "\n",
       "   Owned Copies Original Purchase Date Original Purchase Location Condition  \\\n",
       "10            0                    NaN                        NaN       NaN   \n",
       "12            0                    NaN                        NaN       NaN   \n",
       "13            0                    NaN                        NaN       NaN   \n",
       "15            0                    NaN                        NaN       NaN   \n",
       "17            0                    NaN                        NaN       NaN   \n",
       "\n",
       "   Condition Description BCID  \n",
       "10                   NaN  NaN  \n",
       "12                   NaN  NaN  \n",
       "13                   NaN  NaN  \n",
       "15                   NaN  NaN  \n",
       "17                   NaN  NaN  \n",
       "\n",
       "[5 rows x 31 columns]"
      ]
     },
     "execution_count": 24,
     "metadata": {},
     "output_type": "execute_result"
    }
   ],
   "source": [
    "df.head()"
   ]
  },
  {
   "cell_type": "code",
   "execution_count": 26,
   "id": "answering-argument",
   "metadata": {},
   "outputs": [
    {
     "data": {
      "text/plain": [
       "<AxesSubplot:xlabel='Average Rating', ylabel='My Rating'>"
      ]
     },
     "execution_count": 26,
     "metadata": {},
     "output_type": "execute_result"
    },
    {
     "data": {
      "image/png": "[encoded data removed]",
      "text/plain": [
       "<Figure size 432x288 with 1 Axes>"
      ]
     },
     "metadata": {
      "needs_background": "light"
     },
     "output_type": "display_data"
    }
   ],
   "source": [
    "sns.regplot(y=\"My Rating\", x=\"Average Rating\", data=df)"
   ]
  },
  {
   "cell_type": "code",
   "execution_count": null,
   "id": "differential-fifth",
   "metadata": {},
   "outputs": [],
   "source": []
  },
  {
   "cell_type": "code",
   "execution_count": null,
   "id": "lovely-treaty",
   "metadata": {},
   "outputs": [],
   "source": []
  },
  {
   "cell_type": "code",
   "execution_count": null,
   "id": "strange-drive",
   "metadata": {},
   "outputs": [],
   "source": []
  }
 ],
 "metadata": {
  "kernelspec": {
   "display_name": "Python 3",
   "language": "python",
   "name": "python3"
  },
  "language_info": {
   "codemirror_mode": {
    "name": "ipython",
    "version": 3
   },
   "file_extension": ".py",
   "mimetype": "text/x-python",
   "name": "python",
   "nbconvert_exporter": "python",
   "pygments_lexer": "ipython3",
   "version": "3.8.8"
  }
 },
 "nbformat": 4,
 "nbformat_minor": 5
}

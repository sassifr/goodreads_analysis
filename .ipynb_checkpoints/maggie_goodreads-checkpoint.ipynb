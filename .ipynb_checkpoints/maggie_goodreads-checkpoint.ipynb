{
 "cells": [
  {
   "cell_type": "markdown",
   "id": "eligible-malawi",
   "metadata": {},
   "source": [
    "# maggie's goodreads data :)"
   ]
  },
  {
   "cell_type": "markdown",
   "id": "acute-postcard",
   "metadata": {},
   "source": [
    "imports hehe"
   ]
  },
  {
   "cell_type": "code",
   "execution_count": 2,
   "id": "offshore-complement",
   "metadata": {},
   "outputs": [],
   "source": [
    "# imports\n",
    "import pandas as pd, seaborn as sns\n",
    "from sklearn.model_selection import train_test_split\n",
    "from sklearn.model_selection import TimeSeriesSplit"
   ]
  },
  {
   "cell_type": "markdown",
   "id": "physical-railway",
   "metadata": {},
   "source": [
    "## importing the data"
   ]
  },
  {
   "cell_type": "code",
   "execution_count": 59,
   "id": "front-hypothesis",
   "metadata": {},
   "outputs": [],
   "source": [
    "df = pd.read_csv(\"./data/maggie_goodreads.csv\")"
   ]
  },
  {
   "cell_type": "code",
   "execution_count": 43,
   "id": "black-affairs",
   "metadata": {},
   "outputs": [],
   "source": [
    "df[\"diversity score\"] = df[\"of-color\"]+df[\"non-male\"]+df['international']+df['disabled']\n",
    "df[\"azn\"] = df['race'] == \"asian\"\n",
    "df[\"white\"] = df['race'] == \"white\""
   ]
  },
  {
   "cell_type": "code",
   "execution_count": 44,
   "id": "tamil-inside",
   "metadata": {},
   "outputs": [
    {
     "data": {
      "text/html": [
       "<div>\n",
       "<style scoped>\n",
       "    .dataframe tbody tr th:only-of-type {\n",
       "        vertical-align: middle;\n",
       "    }\n",
       "\n",
       "    .dataframe tbody tr th {\n",
       "        vertical-align: top;\n",
       "    }\n",
       "\n",
       "    .dataframe thead th {\n",
       "        text-align: right;\n",
       "    }\n",
       "</style>\n",
       "<table border=\"1\" class=\"dataframe\">\n",
       "  <thead>\n",
       "    <tr style=\"text-align: right;\">\n",
       "      <th></th>\n",
       "      <th>Title</th>\n",
       "      <th>Author</th>\n",
       "      <th>My Rating</th>\n",
       "      <th>Average Rating</th>\n",
       "      <th>Number of Pages</th>\n",
       "      <th>Original Publication Year</th>\n",
       "      <th>Date Read</th>\n",
       "      <th>race</th>\n",
       "      <th>of-color</th>\n",
       "      <th>gender</th>\n",
       "      <th>non-male</th>\n",
       "      <th>sexuality</th>\n",
       "      <th>non-straight</th>\n",
       "      <th>international</th>\n",
       "      <th>disabled</th>\n",
       "      <th>overall rating</th>\n",
       "      <th>diversity score</th>\n",
       "      <th>azn</th>\n",
       "      <th>white</th>\n",
       "    </tr>\n",
       "  </thead>\n",
       "  <tbody>\n",
       "    <tr>\n",
       "      <th>0</th>\n",
       "      <td>Persephone Station</td>\n",
       "      <td>Stina Leicht</td>\n",
       "      <td>3.0</td>\n",
       "      <td>3.48</td>\n",
       "      <td>512</td>\n",
       "      <td>2021.0</td>\n",
       "      <td>11/26/21</td>\n",
       "      <td>white</td>\n",
       "      <td>0</td>\n",
       "      <td>female</td>\n",
       "      <td>1</td>\n",
       "      <td>straight</td>\n",
       "      <td>0</td>\n",
       "      <td>0</td>\n",
       "      <td>0</td>\n",
       "      <td>1</td>\n",
       "      <td>1</td>\n",
       "      <td>False</td>\n",
       "      <td>True</td>\n",
       "    </tr>\n",
       "    <tr>\n",
       "      <th>1</th>\n",
       "      <td>The Last Graduate (The Scholomance, #2)</td>\n",
       "      <td>Naomi Novik</td>\n",
       "      <td>4.0</td>\n",
       "      <td>4.41</td>\n",
       "      <td>400</td>\n",
       "      <td>2021.0</td>\n",
       "      <td>11/26/21</td>\n",
       "      <td>white</td>\n",
       "      <td>0</td>\n",
       "      <td>female</td>\n",
       "      <td>1</td>\n",
       "      <td>straight</td>\n",
       "      <td>0</td>\n",
       "      <td>0</td>\n",
       "      <td>0</td>\n",
       "      <td>1</td>\n",
       "      <td>1</td>\n",
       "      <td>False</td>\n",
       "      <td>True</td>\n",
       "    </tr>\n",
       "    <tr>\n",
       "      <th>2</th>\n",
       "      <td>Writers &amp; Lovers</td>\n",
       "      <td>Lily King</td>\n",
       "      <td>5.0</td>\n",
       "      <td>4.07</td>\n",
       "      <td>336</td>\n",
       "      <td>2020.0</td>\n",
       "      <td>2/8/21</td>\n",
       "      <td>white</td>\n",
       "      <td>0</td>\n",
       "      <td>female</td>\n",
       "      <td>1</td>\n",
       "      <td>straight</td>\n",
       "      <td>0</td>\n",
       "      <td>0</td>\n",
       "      <td>0</td>\n",
       "      <td>1</td>\n",
       "      <td>1</td>\n",
       "      <td>False</td>\n",
       "      <td>True</td>\n",
       "    </tr>\n",
       "    <tr>\n",
       "      <th>3</th>\n",
       "      <td>The Chosen and the Beautiful</td>\n",
       "      <td>Nghi Vo</td>\n",
       "      <td>5.0</td>\n",
       "      <td>3.66</td>\n",
       "      <td>260</td>\n",
       "      <td>2021.0</td>\n",
       "      <td>11/22/21</td>\n",
       "      <td>asian</td>\n",
       "      <td>1</td>\n",
       "      <td>female</td>\n",
       "      <td>1</td>\n",
       "      <td>queer</td>\n",
       "      <td>1</td>\n",
       "      <td>0</td>\n",
       "      <td>0</td>\n",
       "      <td>3</td>\n",
       "      <td>2</td>\n",
       "      <td>True</td>\n",
       "      <td>False</td>\n",
       "    </tr>\n",
       "    <tr>\n",
       "      <th>4</th>\n",
       "      <td>The Push</td>\n",
       "      <td>Ashley Audrain</td>\n",
       "      <td>3.0</td>\n",
       "      <td>4.12</td>\n",
       "      <td>307</td>\n",
       "      <td>2021.0</td>\n",
       "      <td>11/21/21</td>\n",
       "      <td>white</td>\n",
       "      <td>0</td>\n",
       "      <td>female</td>\n",
       "      <td>1</td>\n",
       "      <td>straight</td>\n",
       "      <td>0</td>\n",
       "      <td>0</td>\n",
       "      <td>0</td>\n",
       "      <td>1</td>\n",
       "      <td>1</td>\n",
       "      <td>False</td>\n",
       "      <td>True</td>\n",
       "    </tr>\n",
       "    <tr>\n",
       "      <th>...</th>\n",
       "      <td>...</td>\n",
       "      <td>...</td>\n",
       "      <td>...</td>\n",
       "      <td>...</td>\n",
       "      <td>...</td>\n",
       "      <td>...</td>\n",
       "      <td>...</td>\n",
       "      <td>...</td>\n",
       "      <td>...</td>\n",
       "      <td>...</td>\n",
       "      <td>...</td>\n",
       "      <td>...</td>\n",
       "      <td>...</td>\n",
       "      <td>...</td>\n",
       "      <td>...</td>\n",
       "      <td>...</td>\n",
       "      <td>...</td>\n",
       "      <td>...</td>\n",
       "      <td>...</td>\n",
       "    </tr>\n",
       "    <tr>\n",
       "      <th>381</th>\n",
       "      <td>From Here to Eternity: Traveling the World to ...</td>\n",
       "      <td>Caitlin Doughty</td>\n",
       "      <td>3.0</td>\n",
       "      <td>4.24</td>\n",
       "      <td>248</td>\n",
       "      <td>2017.0</td>\n",
       "      <td>3/16/18</td>\n",
       "      <td>white</td>\n",
       "      <td>0</td>\n",
       "      <td>female</td>\n",
       "      <td>1</td>\n",
       "      <td>straight</td>\n",
       "      <td>0</td>\n",
       "      <td>0</td>\n",
       "      <td>0</td>\n",
       "      <td>1</td>\n",
       "      <td>1</td>\n",
       "      <td>False</td>\n",
       "      <td>True</td>\n",
       "    </tr>\n",
       "    <tr>\n",
       "      <th>382</th>\n",
       "      <td>The Left Hand of Darkness (Hainish Cycle, #4)</td>\n",
       "      <td>Ursula K. Le Guin</td>\n",
       "      <td>4.0</td>\n",
       "      <td>4.08</td>\n",
       "      <td>304</td>\n",
       "      <td>1969.0</td>\n",
       "      <td>3/12/18</td>\n",
       "      <td>white</td>\n",
       "      <td>0</td>\n",
       "      <td>female</td>\n",
       "      <td>1</td>\n",
       "      <td>straight</td>\n",
       "      <td>0</td>\n",
       "      <td>0</td>\n",
       "      <td>0</td>\n",
       "      <td>1</td>\n",
       "      <td>1</td>\n",
       "      <td>False</td>\n",
       "      <td>True</td>\n",
       "    </tr>\n",
       "    <tr>\n",
       "      <th>383</th>\n",
       "      <td>Love in the Time of Cholera</td>\n",
       "      <td>Gabriel Garc√≠a M√°rquez</td>\n",
       "      <td>4.0</td>\n",
       "      <td>3.92</td>\n",
       "      <td>348</td>\n",
       "      <td>1985.0</td>\n",
       "      <td>12/9/17</td>\n",
       "      <td>latinx</td>\n",
       "      <td>1</td>\n",
       "      <td>male</td>\n",
       "      <td>0</td>\n",
       "      <td>straight</td>\n",
       "      <td>0</td>\n",
       "      <td>1</td>\n",
       "      <td>0</td>\n",
       "      <td>2</td>\n",
       "      <td>2</td>\n",
       "      <td>False</td>\n",
       "      <td>False</td>\n",
       "    </tr>\n",
       "    <tr>\n",
       "      <th>384</th>\n",
       "      <td>Turtles All the Way Down</td>\n",
       "      <td>John Green</td>\n",
       "      <td>4.0</td>\n",
       "      <td>3.92</td>\n",
       "      <td>290</td>\n",
       "      <td>2017.0</td>\n",
       "      <td>NaN</td>\n",
       "      <td>white</td>\n",
       "      <td>0</td>\n",
       "      <td>male</td>\n",
       "      <td>0</td>\n",
       "      <td>straight</td>\n",
       "      <td>0</td>\n",
       "      <td>0</td>\n",
       "      <td>0</td>\n",
       "      <td>0</td>\n",
       "      <td>0</td>\n",
       "      <td>False</td>\n",
       "      <td>True</td>\n",
       "    </tr>\n",
       "    <tr>\n",
       "      <th>385</th>\n",
       "      <td>Catch-22</td>\n",
       "      <td>Joseph Heller</td>\n",
       "      <td>4.0</td>\n",
       "      <td>3.98</td>\n",
       "      <td>453</td>\n",
       "      <td>1961.0</td>\n",
       "      <td>NaN</td>\n",
       "      <td>white</td>\n",
       "      <td>0</td>\n",
       "      <td>male</td>\n",
       "      <td>0</td>\n",
       "      <td>straight</td>\n",
       "      <td>0</td>\n",
       "      <td>0</td>\n",
       "      <td>0</td>\n",
       "      <td>0</td>\n",
       "      <td>0</td>\n",
       "      <td>False</td>\n",
       "      <td>True</td>\n",
       "    </tr>\n",
       "  </tbody>\n",
       "</table>\n",
       "<p>386 rows × 19 columns</p>\n",
       "</div>"
      ],
      "text/plain": [
       "                                                 Title  \\\n",
       "0                                   Persephone Station   \n",
       "1              The Last Graduate (The Scholomance, #2)   \n",
       "2                                     Writers & Lovers   \n",
       "3                         The Chosen and the Beautiful   \n",
       "4                                             The Push   \n",
       "..                                                 ...   \n",
       "381  From Here to Eternity: Traveling the World to ...   \n",
       "382      The Left Hand of Darkness (Hainish Cycle, #4)   \n",
       "383                        Love in the Time of Cholera   \n",
       "384                           Turtles All the Way Down   \n",
       "385                                           Catch-22   \n",
       "\n",
       "                       Author  My Rating  Average Rating  Number of Pages  \\\n",
       "0                Stina Leicht        3.0            3.48              512   \n",
       "1                 Naomi Novik        4.0            4.41              400   \n",
       "2                   Lily King        5.0            4.07              336   \n",
       "3                     Nghi Vo        5.0            3.66              260   \n",
       "4              Ashley Audrain        3.0            4.12              307   \n",
       "..                        ...        ...             ...              ...   \n",
       "381           Caitlin Doughty        3.0            4.24              248   \n",
       "382         Ursula K. Le Guin        4.0            4.08              304   \n",
       "383  Gabriel Garc√≠a M√°rquez        4.0            3.92              348   \n",
       "384                John Green        4.0            3.92              290   \n",
       "385             Joseph Heller        4.0            3.98              453   \n",
       "\n",
       "     Original Publication Year Date Read    race  of-color  gender  non-male  \\\n",
       "0                       2021.0  11/26/21   white         0  female         1   \n",
       "1                       2021.0  11/26/21   white         0  female         1   \n",
       "2                       2020.0    2/8/21   white         0  female         1   \n",
       "3                       2021.0  11/22/21   asian         1  female         1   \n",
       "4                       2021.0  11/21/21   white         0  female         1   \n",
       "..                         ...       ...     ...       ...     ...       ...   \n",
       "381                     2017.0   3/16/18   white         0  female         1   \n",
       "382                     1969.0   3/12/18   white         0  female         1   \n",
       "383                     1985.0   12/9/17  latinx         1    male         0   \n",
       "384                     2017.0       NaN   white         0    male         0   \n",
       "385                     1961.0       NaN   white         0    male         0   \n",
       "\n",
       "    sexuality  non-straight  international  disabled  overall rating  \\\n",
       "0    straight             0              0         0               1   \n",
       "1    straight             0              0         0               1   \n",
       "2    straight             0              0         0               1   \n",
       "3       queer             1              0         0               3   \n",
       "4    straight             0              0         0               1   \n",
       "..        ...           ...            ...       ...             ...   \n",
       "381  straight             0              0         0               1   \n",
       "382  straight             0              0         0               1   \n",
       "383  straight             0              1         0               2   \n",
       "384  straight             0              0         0               0   \n",
       "385  straight             0              0         0               0   \n",
       "\n",
       "     diversity score    azn  white  \n",
       "0                  1  False   True  \n",
       "1                  1  False   True  \n",
       "2                  1  False   True  \n",
       "3                  2   True  False  \n",
       "4                  1  False   True  \n",
       "..               ...    ...    ...  \n",
       "381                1  False   True  \n",
       "382                1  False   True  \n",
       "383                2  False  False  \n",
       "384                0  False   True  \n",
       "385                0  False   True  \n",
       "\n",
       "[386 rows x 19 columns]"
      ]
     },
     "execution_count": 44,
     "metadata": {},
     "output_type": "execute_result"
    }
   ],
   "source": [
    "df"
   ]
  },
  {
   "cell_type": "code",
   "execution_count": 57,
   "id": "electric-procurement",
   "metadata": {},
   "outputs": [
    {
     "data": {
      "text/plain": [
       "<AxesSubplot:xlabel='overall rating', ylabel='My Rating'>"
      ]
     },
     "execution_count": 57,
     "metadata": {},
     "output_type": "execute_result"
    },
    {
     "data": {
      "image/png": "[encoded data removed]",
      "text/plain": [
       "<Figure size 432x288 with 1 Axes>"
      ]
     },
     "metadata": {
      "needs_background": "light"
     },
     "output_type": "display_data"
    }
   ],
   "source": [
    "sns.regplot(x=\"overall rating\", y=\"My Rating\", data=df)"
   ]
  },
  {
   "cell_type": "code",
   "execution_count": 58,
   "id": "innocent-stroke",
   "metadata": {},
   "outputs": [
    {
     "data": {
      "text/plain": [
       "<AxesSubplot:xlabel='of-color', ylabel='My Rating'>"
      ]
     },
     "execution_count": 58,
     "metadata": {},
     "output_type": "execute_result"
    },
    {
     "data": {
      "image/png": "[encoded data removed]",
      "text/plain": [
       "<Figure size 432x288 with 1 Axes>"
      ]
     },
     "metadata": {
      "needs_background": "light"
     },
     "output_type": "display_data"
    }
   ],
   "source": [
    "sns.regplot(x=\"of-color\", y=\"My Rating\", data=df)"
   ]
  },
  {
   "cell_type": "code",
   "execution_count": 51,
   "id": "other-mexico",
   "metadata": {},
   "outputs": [
    {
     "data": {
      "text/plain": [
       "<AxesSubplot:xlabel='non-male', ylabel='My Rating'>"
      ]
     },
     "execution_count": 51,
     "metadata": {},
     "output_type": "execute_result"
    },
    {
     "data": {
      "image/png": "[encoded data removed]",
      "text/plain": [
       "<Figure size 432x288 with 1 Axes>"
      ]
     },
     "metadata": {
      "needs_background": "light"
     },
     "output_type": "display_data"
    }
   ],
   "source": [
    "sns.regplot(x=\"non-male\", y=\"My Rating\", data=df)"
   ]
  },
  {
   "cell_type": "code",
   "execution_count": 52,
   "id": "peripheral-radar",
   "metadata": {},
   "outputs": [
    {
     "data": {
      "text/plain": [
       "<AxesSubplot:xlabel='non-straight', ylabel='My Rating'>"
      ]
     },
     "execution_count": 52,
     "metadata": {},
     "output_type": "execute_result"
    },
    {
     "data": {
      "image/png": "[encoded data removed]",
      "text/plain": [
       "<Figure size 432x288 with 1 Axes>"
      ]
     },
     "metadata": {
      "needs_background": "light"
     },
     "output_type": "display_data"
    }
   ],
   "source": [
    "sns.regplot(x=\"non-straight\", y=\"My Rating\", data=df)"
   ]
  },
  {
   "cell_type": "code",
   "execution_count": 53,
   "id": "accomplished-shelf",
   "metadata": {},
   "outputs": [
    {
     "data": {
      "text/plain": [
       "<AxesSubplot:xlabel='international', ylabel='My Rating'>"
      ]
     },
     "execution_count": 53,
     "metadata": {},
     "output_type": "execute_result"
    },
    {
     "data": {
      "image/png": "[encoded data removed]",
      "text/plain": [
       "<Figure size 432x288 with 1 Axes>"
      ]
     },
     "metadata": {
      "needs_background": "light"
     },
     "output_type": "display_data"
    }
   ],
   "source": [
    "sns.regplot(x=\"international\", y=\"My Rating\", data=df)"
   ]
  },
  {
   "cell_type": "code",
   "execution_count": 39,
   "id": "cubic-welsh",
   "metadata": {},
   "outputs": [
    {
     "data": {
      "text/plain": [
       "<AxesSubplot:xlabel='disabled', ylabel='My Rating'>"
      ]
     },
     "execution_count": 39,
     "metadata": {},
     "output_type": "execute_result"
    },
    {
     "data": {
      "image/png": "[encoded data removed]",
      "text/plain": [
       "<Figure size 432x288 with 1 Axes>"
      ]
     },
     "metadata": {
      "needs_background": "light"
     },
     "output_type": "display_data"
    }
   ],
   "source": [
    "sns.regplot(x=\"disabled\", y=\"My Rating\", data=df)"
   ]
  },
  {
   "cell_type": "code",
   "execution_count": 54,
   "id": "looking-yeast",
   "metadata": {},
   "outputs": [
    {
     "data": {
      "text/plain": [
       "<AxesSubplot:xlabel='white', ylabel='My Rating'>"
      ]
     },
     "execution_count": 54,
     "metadata": {},
     "output_type": "execute_result"
    },
    {
     "data": {
      "image/png": "[encoded data removed]",
      "text/plain": [
       "<Figure size 432x288 with 1 Axes>"
      ]
     },
     "metadata": {
      "needs_background": "light"
     },
     "output_type": "display_data"
    }
   ],
   "source": [
    "sns.regplot(x=\"white\", y=\"My Rating\", data=df)"
   ]
  },
  {
   "cell_type": "code",
   "execution_count": 55,
   "id": "typical-reminder",
   "metadata": {},
   "outputs": [
    {
     "data": {
      "text/plain": [
       "<AxesSubplot:xlabel='Number of Pages', ylabel='My Rating'>"
      ]
     },
     "execution_count": 55,
     "metadata": {},
     "output_type": "execute_result"
    },
    {
     "data": {
      "image/png": "[encoded data removed]",
      "text/plain": [
       "<Figure size 432x288 with 1 Axes>"
      ]
     },
     "metadata": {
      "needs_background": "light"
     },
     "output_type": "display_data"
    }
   ],
   "source": [
    "sns.regplot(x=\"Number of Pages\", y=\"My Rating\", data=df)"
   ]
  },
  {
   "cell_type": "code",
   "execution_count": 56,
   "id": "delayed-american",
   "metadata": {},
   "outputs": [
    {
     "data": {
      "text/plain": [
       "<AxesSubplot:xlabel='Average Rating', ylabel='My Rating'>"
      ]
     },
     "execution_count": 56,
     "metadata": {},
     "output_type": "execute_result"
    },
    {
     "data": {
      "image/png": "[encoded data removed]",
      "text/plain": [
       "<Figure size 432x288 with 1 Axes>"
      ]
     },
     "metadata": {
      "needs_background": "light"
     },
     "output_type": "display_data"
    }
   ],
   "source": [
    "sns.regplot(x=\"Average Rating\", y=\"My Rating\", data=df)"
   ]
  },
  {
   "cell_type": "code",
   "execution_count": null,
   "id": "physical-damages",
   "metadata": {},
   "outputs": [],
   "source": []
  }
 ],
 "metadata": {
  "kernelspec": {
   "display_name": "Python 3",
   "language": "python",
   "name": "python3"
  },
  "language_info": {
   "codemirror_mode": {
    "name": "ipython",
    "version": 3
   },
   "file_extension": ".py",
   "mimetype": "text/x-python",
   "name": "python",
   "nbconvert_exporter": "python",
   "pygments_lexer": "ipython3",
   "version": "3.8.8"
  }
 },
 "nbformat": 4,
 "nbformat_minor": 5
}

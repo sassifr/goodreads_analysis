{
 "cells": [
  {
   "cell_type": "markdown",
   "id": "arabic-property",
   "metadata": {},
   "source": [
    "# michelle's book ratings :)"
   ]
  },
  {
   "cell_type": "markdown",
   "id": "minor-context",
   "metadata": {},
   "source": [
    "imports wowee"
   ]
  },
  {
   "cell_type": "code",
   "execution_count": 25,
   "id": "iraqi-person",
   "metadata": {},
   "outputs": [],
   "source": [
    "import pandas as pd, seaborn as sns\n",
    "from sklearn.model_selection import train_test_split\n",
    "from sklearn.model_selection import TimeSeriesSplit"
   ]
  },
  {
   "cell_type": "markdown",
   "id": "selective-barcelona",
   "metadata": {},
   "source": [
    "## import data"
   ]
  },
  {
   "cell_type": "markdown",
   "id": "southern-research",
   "metadata": {},
   "source": [
    "import tha data"
   ]
  },
  {
   "cell_type": "code",
   "execution_count": 26,
   "id": "protective-bishop",
   "metadata": {},
   "outputs": [],
   "source": [
    "data_18 = pd.read_csv(\"./data/18.csv\")\n",
    "data_19 = pd.read_csv(\"./data/19.csv\")\n",
    "data_20 = pd.read_csv(\"./data/20.csv\")\n",
    "data_21 = pd.read_csv(\"./data/21.csv\")"
   ]
  },
  {
   "cell_type": "code",
   "execution_count": 27,
   "id": "exclusive-postage",
   "metadata": {},
   "outputs": [],
   "source": [
    "#data_20"
   ]
  },
  {
   "cell_type": "markdown",
   "id": "joined-bulgarian",
   "metadata": {},
   "source": [
    "first round of cleaning LOL sigh<br>\n",
    "drop the extrenuous 'stats' section of the csvs here:"
   ]
  },
  {
   "cell_type": "code",
   "execution_count": 28,
   "id": "floating-viewer",
   "metadata": {},
   "outputs": [],
   "source": [
    "data_18 = data_18[data_18['#'].notna()] # drop nan rows \n",
    "data_19 = data_19[data_19['#'].notna()] # drop nan rows \n",
    "data_20 = data_20[data_20['#'].notna()] # drop nan rows \n",
    "data_21 = data_21[data_21['#'].notna()] # drop nan rows "
   ]
  },
  {
   "cell_type": "code",
   "execution_count": 29,
   "id": "offshore-change",
   "metadata": {},
   "outputs": [],
   "source": [
    "#data_18"
   ]
  },
  {
   "cell_type": "code",
   "execution_count": 30,
   "id": "unusual-wages",
   "metadata": {},
   "outputs": [],
   "source": [
    "data_19['#'] = data_19['#']+data_18.shape[0]\n",
    "data_20['#'] = data_20['#']+(data_18.shape[0]+data_19.shape[0])\n",
    "data_21['#'] = data_21['#']+data_18.shape[0]+data_19.shape[0]+data_20.shape[0]"
   ]
  },
  {
   "cell_type": "code",
   "execution_count": 31,
   "id": "parliamentary-threshold",
   "metadata": {},
   "outputs": [
    {
     "data": {
      "text/plain": [
       "(44, 10)"
      ]
     },
     "execution_count": 31,
     "metadata": {},
     "output_type": "execute_result"
    }
   ],
   "source": [
    "df = data_18\n",
    "df.shape"
   ]
  },
  {
   "cell_type": "code",
   "execution_count": 32,
   "id": "challenging-launch",
   "metadata": {},
   "outputs": [
    {
     "data": {
      "text/plain": [
       "(110, 10)"
      ]
     },
     "execution_count": 32,
     "metadata": {},
     "output_type": "execute_result"
    }
   ],
   "source": [
    "df= df.append(data_19)\n",
    "df= df.append(data_20)\n",
    "df= df.append(data_21)\n",
    "df.shape"
   ]
  },
  {
   "cell_type": "markdown",
   "id": "cooked-adjustment",
   "metadata": {},
   "source": [
    "need to get rid of any data without a rating attatched"
   ]
  },
  {
   "cell_type": "code",
   "execution_count": 33,
   "id": "sixth-brass",
   "metadata": {},
   "outputs": [],
   "source": [
    "df['rating']=pd.to_numeric(df['rating'], errors='coerce')\n",
    "df = df[df['rating'].notna()] # drop nan rows "
   ]
  },
  {
   "cell_type": "code",
   "execution_count": 34,
   "id": "accessory-parliament",
   "metadata": {},
   "outputs": [
    {
     "data": {
      "text/html": [
       "<div>\n",
       "<style scoped>\n",
       "    .dataframe tbody tr th:only-of-type {\n",
       "        vertical-align: middle;\n",
       "    }\n",
       "\n",
       "    .dataframe tbody tr th {\n",
       "        vertical-align: top;\n",
       "    }\n",
       "\n",
       "    .dataframe thead th {\n",
       "        text-align: right;\n",
       "    }\n",
       "</style>\n",
       "<table border=\"1\" class=\"dataframe\">\n",
       "  <thead>\n",
       "    <tr style=\"text-align: right;\">\n",
       "      <th></th>\n",
       "      <th>#</th>\n",
       "      <th>title</th>\n",
       "      <th>author</th>\n",
       "      <th>rating</th>\n",
       "      <th>author gender</th>\n",
       "      <th>author race</th>\n",
       "      <th>lgbtq+?</th>\n",
       "      <th>genre</th>\n",
       "      <th>type</th>\n",
       "      <th>notes</th>\n",
       "    </tr>\n",
       "  </thead>\n",
       "  <tbody>\n",
       "    <tr>\n",
       "      <th>0</th>\n",
       "      <td>1.0</td>\n",
       "      <td>miss penegrine's home for peculiar children</td>\n",
       "      <td>ransom riggs</td>\n",
       "      <td>2.0</td>\n",
       "      <td>m</td>\n",
       "      <td>w</td>\n",
       "      <td>n</td>\n",
       "      <td>fantasy</td>\n",
       "      <td>NaN</td>\n",
       "      <td>NaN</td>\n",
       "    </tr>\n",
       "    <tr>\n",
       "      <th>1</th>\n",
       "      <td>2.0</td>\n",
       "      <td>they both die at the end</td>\n",
       "      <td>adam silvera</td>\n",
       "      <td>4.0</td>\n",
       "      <td>m</td>\n",
       "      <td>h</td>\n",
       "      <td>y</td>\n",
       "      <td>contemporary, sci-fi</td>\n",
       "      <td>NaN</td>\n",
       "      <td>NaN</td>\n",
       "    </tr>\n",
       "    <tr>\n",
       "      <th>2</th>\n",
       "      <td>3.0</td>\n",
       "      <td>secrets for the mad</td>\n",
       "      <td>dodie clark</td>\n",
       "      <td>4.0</td>\n",
       "      <td>f</td>\n",
       "      <td>w</td>\n",
       "      <td>y</td>\n",
       "      <td>memoir</td>\n",
       "      <td>memoir</td>\n",
       "      <td>NaN</td>\n",
       "    </tr>\n",
       "    <tr>\n",
       "      <th>3</th>\n",
       "      <td>4.0</td>\n",
       "      <td>monstress: awakening</td>\n",
       "      <td>marjorie liu</td>\n",
       "      <td>4.0</td>\n",
       "      <td>f</td>\n",
       "      <td>a</td>\n",
       "      <td>n</td>\n",
       "      <td>fantasy</td>\n",
       "      <td>graphic novel</td>\n",
       "      <td>NaN</td>\n",
       "    </tr>\n",
       "    <tr>\n",
       "      <th>4</th>\n",
       "      <td>5.0</td>\n",
       "      <td>at the edge fo the universe</td>\n",
       "      <td>shaun david hutchinson</td>\n",
       "      <td>5.0</td>\n",
       "      <td>m</td>\n",
       "      <td>w</td>\n",
       "      <td>y</td>\n",
       "      <td>sci-fi</td>\n",
       "      <td>NaN</td>\n",
       "      <td>NaN</td>\n",
       "    </tr>\n",
       "    <tr>\n",
       "      <th>...</th>\n",
       "      <td>...</td>\n",
       "      <td>...</td>\n",
       "      <td>...</td>\n",
       "      <td>...</td>\n",
       "      <td>...</td>\n",
       "      <td>...</td>\n",
       "      <td>...</td>\n",
       "      <td>...</td>\n",
       "      <td>...</td>\n",
       "      <td>...</td>\n",
       "    </tr>\n",
       "    <tr>\n",
       "      <th>2</th>\n",
       "      <td>95.0</td>\n",
       "      <td>the devil and the dark water</td>\n",
       "      <td>stuart turton</td>\n",
       "      <td>4.0</td>\n",
       "      <td>m</td>\n",
       "      <td>w</td>\n",
       "      <td>n</td>\n",
       "      <td>mystery</td>\n",
       "      <td>NaN</td>\n",
       "      <td>NaN</td>\n",
       "    </tr>\n",
       "    <tr>\n",
       "      <th>12</th>\n",
       "      <td>105.0</td>\n",
       "      <td>the test</td>\n",
       "      <td>sylvain neuvel</td>\n",
       "      <td>4.0</td>\n",
       "      <td>m</td>\n",
       "      <td>w</td>\n",
       "      <td>n</td>\n",
       "      <td>dystopian scifi</td>\n",
       "      <td>NaN</td>\n",
       "      <td>white author but mc is iranian and deutorangon...</td>\n",
       "    </tr>\n",
       "    <tr>\n",
       "      <th>13</th>\n",
       "      <td>106.0</td>\n",
       "      <td>these violent delights</td>\n",
       "      <td>chloe gong</td>\n",
       "      <td>4.0</td>\n",
       "      <td>f</td>\n",
       "      <td>a</td>\n",
       "      <td>y</td>\n",
       "      <td>historical fantasy</td>\n",
       "      <td>NaN</td>\n",
       "      <td>NaN</td>\n",
       "    </tr>\n",
       "    <tr>\n",
       "      <th>14</th>\n",
       "      <td>107.0</td>\n",
       "      <td>a good girl's guide to murder</td>\n",
       "      <td>holly jackson</td>\n",
       "      <td>5.0</td>\n",
       "      <td>f</td>\n",
       "      <td>w</td>\n",
       "      <td>n</td>\n",
       "      <td>mystery/thriller</td>\n",
       "      <td>NaN</td>\n",
       "      <td>indian deutorangonist; lesbian (?) side charac...</td>\n",
       "    </tr>\n",
       "    <tr>\n",
       "      <th>15</th>\n",
       "      <td>108.0</td>\n",
       "      <td>you asked for perfect</td>\n",
       "      <td>laura silverman</td>\n",
       "      <td>1.0</td>\n",
       "      <td>f</td>\n",
       "      <td>w</td>\n",
       "      <td>y</td>\n",
       "      <td>contemporary</td>\n",
       "      <td>NaN</td>\n",
       "      <td>jewish bi mc, indian mlm love interest, korean...</td>\n",
       "    </tr>\n",
       "  </tbody>\n",
       "</table>\n",
       "<p>84 rows × 10 columns</p>\n",
       "</div>"
      ],
      "text/plain": [
       "        #                                        title  \\\n",
       "0     1.0  miss penegrine's home for peculiar children   \n",
       "1     2.0                     they both die at the end   \n",
       "2     3.0                          secrets for the mad   \n",
       "3     4.0                         monstress: awakening   \n",
       "4     5.0                  at the edge fo the universe   \n",
       "..    ...                                          ...   \n",
       "2    95.0                 the devil and the dark water   \n",
       "12  105.0                                     the test   \n",
       "13  106.0                       these violent delights   \n",
       "14  107.0                a good girl's guide to murder   \n",
       "15  108.0                        you asked for perfect   \n",
       "\n",
       "                    author  rating author gender author race lgbtq+?  \\\n",
       "0             ransom riggs     2.0             m           w       n   \n",
       "1             adam silvera     4.0             m           h       y   \n",
       "2              dodie clark     4.0             f           w       y   \n",
       "3             marjorie liu     4.0             f           a       n   \n",
       "4   shaun david hutchinson     5.0             m           w       y   \n",
       "..                     ...     ...           ...         ...     ...   \n",
       "2            stuart turton     4.0             m           w       n   \n",
       "12          sylvain neuvel     4.0             m           w       n   \n",
       "13              chloe gong     4.0             f           a       y   \n",
       "14           holly jackson     5.0             f           w       n   \n",
       "15         laura silverman     1.0             f           w       y   \n",
       "\n",
       "                   genre           type  \\\n",
       "0                fantasy            NaN   \n",
       "1   contemporary, sci-fi            NaN   \n",
       "2                 memoir         memoir   \n",
       "3                fantasy  graphic novel   \n",
       "4                 sci-fi            NaN   \n",
       "..                   ...            ...   \n",
       "2                mystery            NaN   \n",
       "12       dystopian scifi            NaN   \n",
       "13    historical fantasy            NaN   \n",
       "14      mystery/thriller            NaN   \n",
       "15          contemporary            NaN   \n",
       "\n",
       "                                                notes  \n",
       "0                                                 NaN  \n",
       "1                                                 NaN  \n",
       "2                                                 NaN  \n",
       "3                                                 NaN  \n",
       "4                                                 NaN  \n",
       "..                                                ...  \n",
       "2                                                 NaN  \n",
       "12  white author but mc is iranian and deutorangon...  \n",
       "13                                                NaN  \n",
       "14  indian deutorangonist; lesbian (?) side charac...  \n",
       "15  jewish bi mc, indian mlm love interest, korean...  \n",
       "\n",
       "[84 rows x 10 columns]"
      ]
     },
     "execution_count": 34,
     "metadata": {},
     "output_type": "execute_result"
    }
   ],
   "source": [
    "df"
   ]
  },
  {
   "cell_type": "code",
   "execution_count": 35,
   "id": "determined-eleven",
   "metadata": {},
   "outputs": [
    {
     "data": {
      "text/html": [
       "<div>\n",
       "<style scoped>\n",
       "    .dataframe tbody tr th:only-of-type {\n",
       "        vertical-align: middle;\n",
       "    }\n",
       "\n",
       "    .dataframe tbody tr th {\n",
       "        vertical-align: top;\n",
       "    }\n",
       "\n",
       "    .dataframe thead th {\n",
       "        text-align: right;\n",
       "    }\n",
       "</style>\n",
       "<table border=\"1\" class=\"dataframe\">\n",
       "  <thead>\n",
       "    <tr style=\"text-align: right;\">\n",
       "      <th></th>\n",
       "      <th>#</th>\n",
       "      <th>title</th>\n",
       "      <th>author</th>\n",
       "      <th>rating</th>\n",
       "      <th>author gender</th>\n",
       "      <th>author race</th>\n",
       "      <th>lgbtq+?</th>\n",
       "      <th>genre</th>\n",
       "      <th>type</th>\n",
       "      <th>notes</th>\n",
       "      <th>white</th>\n",
       "      <th>asian</th>\n",
       "      <th>diversity score</th>\n",
       "    </tr>\n",
       "  </thead>\n",
       "  <tbody>\n",
       "    <tr>\n",
       "      <th>0</th>\n",
       "      <td>1.0</td>\n",
       "      <td>miss penegrine's home for peculiar children</td>\n",
       "      <td>ransom riggs</td>\n",
       "      <td>2.0</td>\n",
       "      <td>False</td>\n",
       "      <td>False</td>\n",
       "      <td>False</td>\n",
       "      <td>fantasy</td>\n",
       "      <td>NaN</td>\n",
       "      <td>NaN</td>\n",
       "      <td>True</td>\n",
       "      <td>False</td>\n",
       "      <td>1</td>\n",
       "    </tr>\n",
       "    <tr>\n",
       "      <th>1</th>\n",
       "      <td>2.0</td>\n",
       "      <td>they both die at the end</td>\n",
       "      <td>adam silvera</td>\n",
       "      <td>4.0</td>\n",
       "      <td>False</td>\n",
       "      <td>True</td>\n",
       "      <td>True</td>\n",
       "      <td>contemporary, sci-fi</td>\n",
       "      <td>NaN</td>\n",
       "      <td>NaN</td>\n",
       "      <td>False</td>\n",
       "      <td>False</td>\n",
       "      <td>3</td>\n",
       "    </tr>\n",
       "    <tr>\n",
       "      <th>2</th>\n",
       "      <td>3.0</td>\n",
       "      <td>secrets for the mad</td>\n",
       "      <td>dodie clark</td>\n",
       "      <td>4.0</td>\n",
       "      <td>True</td>\n",
       "      <td>False</td>\n",
       "      <td>True</td>\n",
       "      <td>memoir</td>\n",
       "      <td>memoir</td>\n",
       "      <td>NaN</td>\n",
       "      <td>True</td>\n",
       "      <td>False</td>\n",
       "      <td>3</td>\n",
       "    </tr>\n",
       "    <tr>\n",
       "      <th>3</th>\n",
       "      <td>4.0</td>\n",
       "      <td>monstress: awakening</td>\n",
       "      <td>marjorie liu</td>\n",
       "      <td>4.0</td>\n",
       "      <td>True</td>\n",
       "      <td>True</td>\n",
       "      <td>False</td>\n",
       "      <td>fantasy</td>\n",
       "      <td>graphic novel</td>\n",
       "      <td>NaN</td>\n",
       "      <td>False</td>\n",
       "      <td>True</td>\n",
       "      <td>3</td>\n",
       "    </tr>\n",
       "    <tr>\n",
       "      <th>4</th>\n",
       "      <td>5.0</td>\n",
       "      <td>at the edge fo the universe</td>\n",
       "      <td>shaun david hutchinson</td>\n",
       "      <td>5.0</td>\n",
       "      <td>False</td>\n",
       "      <td>False</td>\n",
       "      <td>True</td>\n",
       "      <td>sci-fi</td>\n",
       "      <td>NaN</td>\n",
       "      <td>NaN</td>\n",
       "      <td>True</td>\n",
       "      <td>False</td>\n",
       "      <td>2</td>\n",
       "    </tr>\n",
       "    <tr>\n",
       "      <th>...</th>\n",
       "      <td>...</td>\n",
       "      <td>...</td>\n",
       "      <td>...</td>\n",
       "      <td>...</td>\n",
       "      <td>...</td>\n",
       "      <td>...</td>\n",
       "      <td>...</td>\n",
       "      <td>...</td>\n",
       "      <td>...</td>\n",
       "      <td>...</td>\n",
       "      <td>...</td>\n",
       "      <td>...</td>\n",
       "      <td>...</td>\n",
       "    </tr>\n",
       "    <tr>\n",
       "      <th>2</th>\n",
       "      <td>95.0</td>\n",
       "      <td>the devil and the dark water</td>\n",
       "      <td>stuart turton</td>\n",
       "      <td>4.0</td>\n",
       "      <td>False</td>\n",
       "      <td>False</td>\n",
       "      <td>False</td>\n",
       "      <td>mystery</td>\n",
       "      <td>NaN</td>\n",
       "      <td>NaN</td>\n",
       "      <td>True</td>\n",
       "      <td>False</td>\n",
       "      <td>1</td>\n",
       "    </tr>\n",
       "    <tr>\n",
       "      <th>12</th>\n",
       "      <td>105.0</td>\n",
       "      <td>the test</td>\n",
       "      <td>sylvain neuvel</td>\n",
       "      <td>4.0</td>\n",
       "      <td>False</td>\n",
       "      <td>False</td>\n",
       "      <td>False</td>\n",
       "      <td>dystopian scifi</td>\n",
       "      <td>NaN</td>\n",
       "      <td>white author but mc is iranian and deutorangon...</td>\n",
       "      <td>True</td>\n",
       "      <td>False</td>\n",
       "      <td>1</td>\n",
       "    </tr>\n",
       "    <tr>\n",
       "      <th>13</th>\n",
       "      <td>106.0</td>\n",
       "      <td>these violent delights</td>\n",
       "      <td>chloe gong</td>\n",
       "      <td>4.0</td>\n",
       "      <td>True</td>\n",
       "      <td>True</td>\n",
       "      <td>True</td>\n",
       "      <td>historical fantasy</td>\n",
       "      <td>NaN</td>\n",
       "      <td>NaN</td>\n",
       "      <td>False</td>\n",
       "      <td>True</td>\n",
       "      <td>4</td>\n",
       "    </tr>\n",
       "    <tr>\n",
       "      <th>14</th>\n",
       "      <td>107.0</td>\n",
       "      <td>a good girl's guide to murder</td>\n",
       "      <td>holly jackson</td>\n",
       "      <td>5.0</td>\n",
       "      <td>True</td>\n",
       "      <td>False</td>\n",
       "      <td>False</td>\n",
       "      <td>mystery/thriller</td>\n",
       "      <td>NaN</td>\n",
       "      <td>indian deutorangonist; lesbian (?) side charac...</td>\n",
       "      <td>True</td>\n",
       "      <td>False</td>\n",
       "      <td>2</td>\n",
       "    </tr>\n",
       "    <tr>\n",
       "      <th>15</th>\n",
       "      <td>108.0</td>\n",
       "      <td>you asked for perfect</td>\n",
       "      <td>laura silverman</td>\n",
       "      <td>1.0</td>\n",
       "      <td>True</td>\n",
       "      <td>False</td>\n",
       "      <td>True</td>\n",
       "      <td>contemporary</td>\n",
       "      <td>NaN</td>\n",
       "      <td>jewish bi mc, indian mlm love interest, korean...</td>\n",
       "      <td>True</td>\n",
       "      <td>False</td>\n",
       "      <td>3</td>\n",
       "    </tr>\n",
       "  </tbody>\n",
       "</table>\n",
       "<p>84 rows × 13 columns</p>\n",
       "</div>"
      ],
      "text/plain": [
       "        #                                        title  \\\n",
       "0     1.0  miss penegrine's home for peculiar children   \n",
       "1     2.0                     they both die at the end   \n",
       "2     3.0                          secrets for the mad   \n",
       "3     4.0                         monstress: awakening   \n",
       "4     5.0                  at the edge fo the universe   \n",
       "..    ...                                          ...   \n",
       "2    95.0                 the devil and the dark water   \n",
       "12  105.0                                     the test   \n",
       "13  106.0                       these violent delights   \n",
       "14  107.0                a good girl's guide to murder   \n",
       "15  108.0                        you asked for perfect   \n",
       "\n",
       "                    author  rating  author gender  author race  lgbtq+?  \\\n",
       "0             ransom riggs     2.0          False        False    False   \n",
       "1             adam silvera     4.0          False         True     True   \n",
       "2              dodie clark     4.0           True        False     True   \n",
       "3             marjorie liu     4.0           True         True    False   \n",
       "4   shaun david hutchinson     5.0          False        False     True   \n",
       "..                     ...     ...            ...          ...      ...   \n",
       "2            stuart turton     4.0          False        False    False   \n",
       "12          sylvain neuvel     4.0          False        False    False   \n",
       "13              chloe gong     4.0           True         True     True   \n",
       "14           holly jackson     5.0           True        False    False   \n",
       "15         laura silverman     1.0           True        False     True   \n",
       "\n",
       "                   genre           type  \\\n",
       "0                fantasy            NaN   \n",
       "1   contemporary, sci-fi            NaN   \n",
       "2                 memoir         memoir   \n",
       "3                fantasy  graphic novel   \n",
       "4                 sci-fi            NaN   \n",
       "..                   ...            ...   \n",
       "2                mystery            NaN   \n",
       "12       dystopian scifi            NaN   \n",
       "13    historical fantasy            NaN   \n",
       "14      mystery/thriller            NaN   \n",
       "15          contemporary            NaN   \n",
       "\n",
       "                                                notes  white  asian  \\\n",
       "0                                                 NaN   True  False   \n",
       "1                                                 NaN  False  False   \n",
       "2                                                 NaN   True  False   \n",
       "3                                                 NaN  False   True   \n",
       "4                                                 NaN   True  False   \n",
       "..                                                ...    ...    ...   \n",
       "2                                                 NaN   True  False   \n",
       "12  white author but mc is iranian and deutorangon...   True  False   \n",
       "13                                                NaN  False   True   \n",
       "14  indian deutorangonist; lesbian (?) side charac...   True  False   \n",
       "15  jewish bi mc, indian mlm love interest, korean...   True  False   \n",
       "\n",
       "    diversity score  \n",
       "0                 1  \n",
       "1                 3  \n",
       "2                 3  \n",
       "3                 3  \n",
       "4                 2  \n",
       "..              ...  \n",
       "2                 1  \n",
       "12                1  \n",
       "13                4  \n",
       "14                2  \n",
       "15                3  \n",
       "\n",
       "[84 rows x 13 columns]"
      ]
     },
     "execution_count": 35,
     "metadata": {},
     "output_type": "execute_result"
    }
   ],
   "source": [
    "df['author gender'] = df['author gender'] == 'f'\n",
    "df['white']=df['author race'] == 'w'\n",
    "df['asian']=df['author race'] == 'a'\n",
    "df['author race'] = df['author race'] != 'w'\n",
    "df['lgbtq+?'] = df['lgbtq+?'] == 'y'\n",
    "df['diversity score']=1+pd.to_numeric(df['lgbtq+?'], errors='coerce')+pd.to_numeric(df['author race'], errors='coerce')+pd.to_numeric(df['author gender'], errors='coerce')\n",
    "#df['diversity score'] = int(df['lgbtq+?'])+int(df['author gender'])+int(df['author race']==0)\n",
    "df"
   ]
  },
  {
   "cell_type": "markdown",
   "id": "fewer-constraint",
   "metadata": {},
   "source": [
    "## correlation analysis"
   ]
  },
  {
   "cell_type": "markdown",
   "id": "curious-viking",
   "metadata": {},
   "source": [
    "we want to identify any strong correlation between rating and our features"
   ]
  },
  {
   "cell_type": "code",
   "execution_count": 36,
   "id": "fitted-regular",
   "metadata": {},
   "outputs": [],
   "source": [
    "#sns.scatterplot(\n",
    " #   data=df, x=\"rating\", y=\"diversity score\"\n",
    "#).set_title(\"rating versus diversity score\")"
   ]
  },
  {
   "cell_type": "code",
   "execution_count": 37,
   "id": "green-identifier",
   "metadata": {},
   "outputs": [
    {
     "data": {
      "text/plain": [
       "<AxesSubplot:xlabel='rating', ylabel='diversity score'>"
      ]
     },
     "execution_count": 37,
     "metadata": {},
     "output_type": "execute_result"
    },
    {
     "data": {
      "image/png": "[encoded data removed]",
      "text/plain": [
       "<Figure size 432x288 with 1 Axes>"
      ]
     },
     "metadata": {
      "needs_background": "light"
     },
     "output_type": "display_data"
    }
   ],
   "source": [
    "sns.regplot(x=\"rating\", y=\"diversity score\", data=df)"
   ]
  },
  {
   "cell_type": "code",
   "execution_count": 38,
   "id": "sufficient-clark",
   "metadata": {},
   "outputs": [
    {
     "data": {
      "text/plain": [
       "<AxesSubplot:xlabel='rating', ylabel='author race'>"
      ]
     },
     "execution_count": 38,
     "metadata": {},
     "output_type": "execute_result"
    },
    {
     "data": {
      "image/png": "[encoded data removed]",
      "text/plain": [
       "<Figure size 432x288 with 1 Axes>"
      ]
     },
     "metadata": {
      "needs_background": "light"
     },
     "output_type": "display_data"
    }
   ],
   "source": [
    "# 1 = of-color, 0 = white\n",
    "sns.regplot(x=\"rating\", y=\"author race\", data=df)"
   ]
  },
  {
   "cell_type": "code",
   "execution_count": 39,
   "id": "numeric-volleyball",
   "metadata": {},
   "outputs": [
    {
     "data": {
      "text/plain": [
       "<AxesSubplot:xlabel='rating', ylabel='author gender'>"
      ]
     },
     "execution_count": 39,
     "metadata": {},
     "output_type": "execute_result"
    },
    {
     "data": {
      "image/png": "[encoded data removed]",
      "text/plain": [
       "<Figure size 432x288 with 1 Axes>"
      ]
     },
     "metadata": {
      "needs_background": "light"
     },
     "output_type": "display_data"
    }
   ],
   "source": [
    "# 1 = fem, 0 = not fem\n",
    "sns.regplot(x=\"rating\", y=\"author gender\", data=df)"
   ]
  },
  {
   "cell_type": "code",
   "execution_count": 40,
   "id": "industrial-temperature",
   "metadata": {},
   "outputs": [
    {
     "data": {
      "text/plain": [
       "<AxesSubplot:xlabel='rating', ylabel='lgbtq+?'>"
      ]
     },
     "execution_count": 40,
     "metadata": {},
     "output_type": "execute_result"
    },
    {
     "data": {
      "image/png": "[encoded data removed]",
      "text/plain": [
       "<Figure size 432x288 with 1 Axes>"
      ]
     },
     "metadata": {
      "needs_background": "light"
     },
     "output_type": "display_data"
    }
   ],
   "source": [
    "# 1 = queer, 0 = not queer\n",
    "sns.regplot(x=\"rating\", y=\"lgbtq+?\", data=df)"
   ]
  },
  {
   "cell_type": "code",
   "execution_count": 41,
   "id": "wrong-thomas",
   "metadata": {},
   "outputs": [
    {
     "data": {
      "text/plain": [
       "<AxesSubplot:xlabel='rating', ylabel='asian'>"
      ]
     },
     "execution_count": 41,
     "metadata": {},
     "output_type": "execute_result"
    },
    {
     "data": {
      "image/png": "[encoded data removed]",
      "text/plain": [
       "<Figure size 432x288 with 1 Axes>"
      ]
     },
     "metadata": {
      "needs_background": "light"
     },
     "output_type": "display_data"
    }
   ],
   "source": [
    "# 1 = queer, 0 = not queer\n",
    "sns.regplot(x=\"rating\", y=\"asian\", data=df)"
   ]
  },
  {
   "cell_type": "code",
   "execution_count": 42,
   "id": "miniature-survival",
   "metadata": {},
   "outputs": [
    {
     "data": {
      "text/plain": [
       "<AxesSubplot:xlabel='rating', ylabel='white'>"
      ]
     },
     "execution_count": 42,
     "metadata": {},
     "output_type": "execute_result"
    },
    {
     "data": {
      "image/png": "[encoded data removed]",
      "text/plain": [
       "<Figure size 432x288 with 1 Axes>"
      ]
     },
     "metadata": {
      "needs_background": "light"
     },
     "output_type": "display_data"
    }
   ],
   "source": [
    "# 1 = queer, 0 = not queer\n",
    "sns.regplot(x=\"rating\", y=\"white\", data=df)"
   ]
  },
  {
   "cell_type": "markdown",
   "id": "native-tradition",
   "metadata": {},
   "source": [
    "## for fun"
   ]
  },
  {
   "cell_type": "code",
   "execution_count": 56,
   "id": "effective-courage",
   "metadata": {},
   "outputs": [
    {
     "data": {
      "text/html": [
       "<div>\n",
       "<style scoped>\n",
       "    .dataframe tbody tr th:only-of-type {\n",
       "        vertical-align: middle;\n",
       "    }\n",
       "\n",
       "    .dataframe tbody tr th {\n",
       "        vertical-align: top;\n",
       "    }\n",
       "\n",
       "    .dataframe thead th {\n",
       "        text-align: right;\n",
       "    }\n",
       "</style>\n",
       "<table border=\"1\" class=\"dataframe\">\n",
       "  <thead>\n",
       "    <tr style=\"text-align: right;\">\n",
       "      <th></th>\n",
       "      <th>#</th>\n",
       "      <th>title</th>\n",
       "      <th>author</th>\n",
       "      <th>rating</th>\n",
       "      <th>author gender</th>\n",
       "      <th>author race</th>\n",
       "      <th>lgbtq+?</th>\n",
       "      <th>genre</th>\n",
       "      <th>type</th>\n",
       "      <th>notes</th>\n",
       "      <th>white</th>\n",
       "      <th>asian</th>\n",
       "      <th>diversity score</th>\n",
       "      <th>first letter</th>\n",
       "      <th>first_letter</th>\n",
       "    </tr>\n",
       "  </thead>\n",
       "  <tbody>\n",
       "    <tr>\n",
       "      <th>0</th>\n",
       "      <td>1.0</td>\n",
       "      <td>miss penegrine's home for peculiar children</td>\n",
       "      <td>ransom riggs</td>\n",
       "      <td>2.0</td>\n",
       "      <td>False</td>\n",
       "      <td>False</td>\n",
       "      <td>False</td>\n",
       "      <td>fantasy</td>\n",
       "      <td>NaN</td>\n",
       "      <td>NaN</td>\n",
       "      <td>True</td>\n",
       "      <td>False</td>\n",
       "      <td>1</td>\n",
       "      <td>r</td>\n",
       "      <td>r</td>\n",
       "    </tr>\n",
       "    <tr>\n",
       "      <th>1</th>\n",
       "      <td>2.0</td>\n",
       "      <td>they both die at the end</td>\n",
       "      <td>adam silvera</td>\n",
       "      <td>4.0</td>\n",
       "      <td>False</td>\n",
       "      <td>True</td>\n",
       "      <td>True</td>\n",
       "      <td>contemporary, sci-fi</td>\n",
       "      <td>NaN</td>\n",
       "      <td>NaN</td>\n",
       "      <td>False</td>\n",
       "      <td>False</td>\n",
       "      <td>3</td>\n",
       "      <td>a</td>\n",
       "      <td>a</td>\n",
       "    </tr>\n",
       "    <tr>\n",
       "      <th>2</th>\n",
       "      <td>3.0</td>\n",
       "      <td>secrets for the mad</td>\n",
       "      <td>dodie clark</td>\n",
       "      <td>4.0</td>\n",
       "      <td>True</td>\n",
       "      <td>False</td>\n",
       "      <td>True</td>\n",
       "      <td>memoir</td>\n",
       "      <td>memoir</td>\n",
       "      <td>NaN</td>\n",
       "      <td>True</td>\n",
       "      <td>False</td>\n",
       "      <td>3</td>\n",
       "      <td>d</td>\n",
       "      <td>d</td>\n",
       "    </tr>\n",
       "    <tr>\n",
       "      <th>3</th>\n",
       "      <td>4.0</td>\n",
       "      <td>monstress: awakening</td>\n",
       "      <td>marjorie liu</td>\n",
       "      <td>4.0</td>\n",
       "      <td>True</td>\n",
       "      <td>True</td>\n",
       "      <td>False</td>\n",
       "      <td>fantasy</td>\n",
       "      <td>graphic novel</td>\n",
       "      <td>NaN</td>\n",
       "      <td>False</td>\n",
       "      <td>True</td>\n",
       "      <td>3</td>\n",
       "      <td>m</td>\n",
       "      <td>m</td>\n",
       "    </tr>\n",
       "    <tr>\n",
       "      <th>4</th>\n",
       "      <td>5.0</td>\n",
       "      <td>at the edge fo the universe</td>\n",
       "      <td>shaun david hutchinson</td>\n",
       "      <td>5.0</td>\n",
       "      <td>False</td>\n",
       "      <td>False</td>\n",
       "      <td>True</td>\n",
       "      <td>sci-fi</td>\n",
       "      <td>NaN</td>\n",
       "      <td>NaN</td>\n",
       "      <td>True</td>\n",
       "      <td>False</td>\n",
       "      <td>2</td>\n",
       "      <td>s</td>\n",
       "      <td>s</td>\n",
       "    </tr>\n",
       "    <tr>\n",
       "      <th>...</th>\n",
       "      <td>...</td>\n",
       "      <td>...</td>\n",
       "      <td>...</td>\n",
       "      <td>...</td>\n",
       "      <td>...</td>\n",
       "      <td>...</td>\n",
       "      <td>...</td>\n",
       "      <td>...</td>\n",
       "      <td>...</td>\n",
       "      <td>...</td>\n",
       "      <td>...</td>\n",
       "      <td>...</td>\n",
       "      <td>...</td>\n",
       "      <td>...</td>\n",
       "      <td>...</td>\n",
       "    </tr>\n",
       "    <tr>\n",
       "      <th>2</th>\n",
       "      <td>95.0</td>\n",
       "      <td>the devil and the dark water</td>\n",
       "      <td>stuart turton</td>\n",
       "      <td>4.0</td>\n",
       "      <td>False</td>\n",
       "      <td>False</td>\n",
       "      <td>False</td>\n",
       "      <td>mystery</td>\n",
       "      <td>NaN</td>\n",
       "      <td>NaN</td>\n",
       "      <td>True</td>\n",
       "      <td>False</td>\n",
       "      <td>1</td>\n",
       "      <td>s</td>\n",
       "      <td>s</td>\n",
       "    </tr>\n",
       "    <tr>\n",
       "      <th>12</th>\n",
       "      <td>105.0</td>\n",
       "      <td>the test</td>\n",
       "      <td>sylvain neuvel</td>\n",
       "      <td>4.0</td>\n",
       "      <td>False</td>\n",
       "      <td>False</td>\n",
       "      <td>False</td>\n",
       "      <td>dystopian scifi</td>\n",
       "      <td>NaN</td>\n",
       "      <td>white author but mc is iranian and deutorangon...</td>\n",
       "      <td>True</td>\n",
       "      <td>False</td>\n",
       "      <td>1</td>\n",
       "      <td>s</td>\n",
       "      <td>s</td>\n",
       "    </tr>\n",
       "    <tr>\n",
       "      <th>13</th>\n",
       "      <td>106.0</td>\n",
       "      <td>these violent delights</td>\n",
       "      <td>chloe gong</td>\n",
       "      <td>4.0</td>\n",
       "      <td>True</td>\n",
       "      <td>True</td>\n",
       "      <td>True</td>\n",
       "      <td>historical fantasy</td>\n",
       "      <td>NaN</td>\n",
       "      <td>NaN</td>\n",
       "      <td>False</td>\n",
       "      <td>True</td>\n",
       "      <td>4</td>\n",
       "      <td>c</td>\n",
       "      <td>c</td>\n",
       "    </tr>\n",
       "    <tr>\n",
       "      <th>14</th>\n",
       "      <td>107.0</td>\n",
       "      <td>a good girl's guide to murder</td>\n",
       "      <td>holly jackson</td>\n",
       "      <td>5.0</td>\n",
       "      <td>True</td>\n",
       "      <td>False</td>\n",
       "      <td>False</td>\n",
       "      <td>mystery/thriller</td>\n",
       "      <td>NaN</td>\n",
       "      <td>indian deutorangonist; lesbian (?) side charac...</td>\n",
       "      <td>True</td>\n",
       "      <td>False</td>\n",
       "      <td>2</td>\n",
       "      <td>h</td>\n",
       "      <td>h</td>\n",
       "    </tr>\n",
       "    <tr>\n",
       "      <th>15</th>\n",
       "      <td>108.0</td>\n",
       "      <td>you asked for perfect</td>\n",
       "      <td>laura silverman</td>\n",
       "      <td>1.0</td>\n",
       "      <td>True</td>\n",
       "      <td>False</td>\n",
       "      <td>True</td>\n",
       "      <td>contemporary</td>\n",
       "      <td>NaN</td>\n",
       "      <td>jewish bi mc, indian mlm love interest, korean...</td>\n",
       "      <td>True</td>\n",
       "      <td>False</td>\n",
       "      <td>3</td>\n",
       "      <td>l</td>\n",
       "      <td>l</td>\n",
       "    </tr>\n",
       "  </tbody>\n",
       "</table>\n",
       "<p>84 rows × 15 columns</p>\n",
       "</div>"
      ],
      "text/plain": [
       "        #                                        title  \\\n",
       "0     1.0  miss penegrine's home for peculiar children   \n",
       "1     2.0                     they both die at the end   \n",
       "2     3.0                          secrets for the mad   \n",
       "3     4.0                         monstress: awakening   \n",
       "4     5.0                  at the edge fo the universe   \n",
       "..    ...                                          ...   \n",
       "2    95.0                 the devil and the dark water   \n",
       "12  105.0                                     the test   \n",
       "13  106.0                       these violent delights   \n",
       "14  107.0                a good girl's guide to murder   \n",
       "15  108.0                        you asked for perfect   \n",
       "\n",
       "                    author  rating  author gender  author race  lgbtq+?  \\\n",
       "0             ransom riggs     2.0          False        False    False   \n",
       "1             adam silvera     4.0          False         True     True   \n",
       "2              dodie clark     4.0           True        False     True   \n",
       "3             marjorie liu     4.0           True         True    False   \n",
       "4   shaun david hutchinson     5.0          False        False     True   \n",
       "..                     ...     ...            ...          ...      ...   \n",
       "2            stuart turton     4.0          False        False    False   \n",
       "12          sylvain neuvel     4.0          False        False    False   \n",
       "13              chloe gong     4.0           True         True     True   \n",
       "14           holly jackson     5.0           True        False    False   \n",
       "15         laura silverman     1.0           True        False     True   \n",
       "\n",
       "                   genre           type  \\\n",
       "0                fantasy            NaN   \n",
       "1   contemporary, sci-fi            NaN   \n",
       "2                 memoir         memoir   \n",
       "3                fantasy  graphic novel   \n",
       "4                 sci-fi            NaN   \n",
       "..                   ...            ...   \n",
       "2                mystery            NaN   \n",
       "12       dystopian scifi            NaN   \n",
       "13    historical fantasy            NaN   \n",
       "14      mystery/thriller            NaN   \n",
       "15          contemporary            NaN   \n",
       "\n",
       "                                                notes  white  asian  \\\n",
       "0                                                 NaN   True  False   \n",
       "1                                                 NaN  False  False   \n",
       "2                                                 NaN   True  False   \n",
       "3                                                 NaN  False   True   \n",
       "4                                                 NaN   True  False   \n",
       "..                                                ...    ...    ...   \n",
       "2                                                 NaN   True  False   \n",
       "12  white author but mc is iranian and deutorangon...   True  False   \n",
       "13                                                NaN  False   True   \n",
       "14  indian deutorangonist; lesbian (?) side charac...   True  False   \n",
       "15  jewish bi mc, indian mlm love interest, korean...   True  False   \n",
       "\n",
       "    diversity score first letter first_letter  \n",
       "0                 1            r            r  \n",
       "1                 3            a            a  \n",
       "2                 3            d            d  \n",
       "3                 3            m            m  \n",
       "4                 2            s            s  \n",
       "..              ...          ...          ...  \n",
       "2                 1            s            s  \n",
       "12                1            s            s  \n",
       "13                4            c            c  \n",
       "14                2            h            h  \n",
       "15                3            l            l  \n",
       "\n",
       "[84 rows x 15 columns]"
      ]
     },
     "execution_count": 56,
     "metadata": {},
     "output_type": "execute_result"
    }
   ],
   "source": [
    "df[\"first_letter\"] = df[\"author\"].str[0]\n",
    "df"
   ]
  },
  {
   "cell_type": "code",
   "execution_count": 59,
   "id": "nervous-thesaurus",
   "metadata": {},
   "outputs": [
    {
     "data": {
      "text/plain": [
       "#                  float64\n",
       "title               object\n",
       "author              object\n",
       "rating             float64\n",
       "author gender         bool\n",
       "author race           bool\n",
       "lgbtq+?               bool\n",
       "genre               object\n",
       "type                object\n",
       "notes               object\n",
       "white                 bool\n",
       "asian                 bool\n",
       "diversity score      int32\n",
       "first letter        object\n",
       "first_letter        object\n",
       "dtype: object"
      ]
     },
     "execution_count": 59,
     "metadata": {},
     "output_type": "execute_result"
    }
   ],
   "source": [
    "df.dtypes"
   ]
  },
  {
   "cell_type": "code",
   "execution_count": 62,
   "id": "fundamental-career",
   "metadata": {},
   "outputs": [
    {
     "ename": "ValueError",
     "evalue": "Unable to parse string \"r\" at position 0",
     "output_type": "error",
     "traceback": [
      "\u001b[1;31m---------------------------------------------------------------------------\u001b[0m",
      "\u001b[1;31mValueError\u001b[0m                                Traceback (most recent call last)",
      "\u001b[1;32mpandas\\_libs\\lib.pyx\u001b[0m in \u001b[0;36mpandas._libs.lib.maybe_convert_numeric\u001b[1;34m()\u001b[0m\n",
      "\u001b[1;31mValueError\u001b[0m: Unable to parse string \"r\"",
      "\nDuring handling of the above exception, another exception occurred:\n",
      "\u001b[1;31mValueError\u001b[0m                                Traceback (most recent call last)",
      "\u001b[1;32m<ipython-input-62-330e171c42e4>\u001b[0m in \u001b[0;36m<module>\u001b[1;34m\u001b[0m\n\u001b[1;32m----> 1\u001b[1;33m \u001b[0mdf\u001b[0m\u001b[1;33m[\u001b[0m\u001b[1;34m\"first_num\"\u001b[0m\u001b[1;33m]\u001b[0m \u001b[1;33m=\u001b[0m \u001b[0mpd\u001b[0m\u001b[1;33m.\u001b[0m\u001b[0mto_numeric\u001b[0m\u001b[1;33m(\u001b[0m\u001b[0mdf\u001b[0m\u001b[1;33m.\u001b[0m\u001b[0mfirst_letter\u001b[0m\u001b[1;33m.\u001b[0m\u001b[0mstr\u001b[0m\u001b[1;33m[\u001b[0m\u001b[1;36m0\u001b[0m\u001b[1;33m]\u001b[0m\u001b[1;33m)\u001b[0m\u001b[1;33m\u001b[0m\u001b[1;33m\u001b[0m\u001b[0m\n\u001b[0m",
      "\u001b[1;32m~\\anaconda3\\lib\\site-packages\\pandas\\core\\tools\\numeric.py\u001b[0m in \u001b[0;36mto_numeric\u001b[1;34m(arg, errors, downcast)\u001b[0m\n\u001b[0;32m    152\u001b[0m         \u001b[0mcoerce_numeric\u001b[0m \u001b[1;33m=\u001b[0m \u001b[0merrors\u001b[0m \u001b[1;32mnot\u001b[0m \u001b[1;32min\u001b[0m \u001b[1;33m(\u001b[0m\u001b[1;34m\"ignore\"\u001b[0m\u001b[1;33m,\u001b[0m \u001b[1;34m\"raise\"\u001b[0m\u001b[1;33m)\u001b[0m\u001b[1;33m\u001b[0m\u001b[1;33m\u001b[0m\u001b[0m\n\u001b[0;32m    153\u001b[0m         \u001b[1;32mtry\u001b[0m\u001b[1;33m:\u001b[0m\u001b[1;33m\u001b[0m\u001b[1;33m\u001b[0m\u001b[0m\n\u001b[1;32m--> 154\u001b[1;33m             values = lib.maybe_convert_numeric(\n\u001b[0m\u001b[0;32m    155\u001b[0m                 \u001b[0mvalues\u001b[0m\u001b[1;33m,\u001b[0m \u001b[0mset\u001b[0m\u001b[1;33m(\u001b[0m\u001b[1;33m)\u001b[0m\u001b[1;33m,\u001b[0m \u001b[0mcoerce_numeric\u001b[0m\u001b[1;33m=\u001b[0m\u001b[0mcoerce_numeric\u001b[0m\u001b[1;33m\u001b[0m\u001b[1;33m\u001b[0m\u001b[0m\n\u001b[0;32m    156\u001b[0m             )\n",
      "\u001b[1;32mpandas\\_libs\\lib.pyx\u001b[0m in \u001b[0;36mpandas._libs.lib.maybe_convert_numeric\u001b[1;34m()\u001b[0m\n",
      "\u001b[1;31mValueError\u001b[0m: Unable to parse string \"r\" at position 0"
     ]
    }
   ],
   "source": [
    "df[\"first_num\"] = pd.to_numeric(df.first_letter.str[0])\n"
   ]
  },
  {
   "cell_type": "code",
   "execution_count": null,
   "id": "innocent-behavior",
   "metadata": {},
   "outputs": [],
   "source": []
  }
 ],
 "metadata": {
  "kernelspec": {
   "display_name": "Python 3",
   "language": "python",
   "name": "python3"
  },
  "language_info": {
   "codemirror_mode": {
    "name": "ipython",
    "version": 3
   },
   "file_extension": ".py",
   "mimetype": "text/x-python",
   "name": "python",
   "nbconvert_exporter": "python",
   "pygments_lexer": "ipython3",
   "version": "3.8.8"
  }
 },
 "nbformat": 4,
 "nbformat_minor": 5
}
